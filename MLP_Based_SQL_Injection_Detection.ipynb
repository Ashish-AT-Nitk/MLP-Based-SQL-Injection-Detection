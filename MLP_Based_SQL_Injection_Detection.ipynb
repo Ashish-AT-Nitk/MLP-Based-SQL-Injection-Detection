{
  "nbformat": 4,
  "nbformat_minor": 0,
  "metadata": {
    "colab": {
      "name": "MLP Based SQL Injection Detection.ipynb",
      "provenance": [],
      "collapsed_sections": []
    },
    "kernelspec": {
      "display_name": "Python 3",
      "language": "python",
      "name": "python3"
    },
    "language_info": {
      "codemirror_mode": {
        "name": "ipython",
        "version": 3
      },
      "file_extension": ".py",
      "mimetype": "text/x-python",
      "name": "python",
      "nbconvert_exporter": "python",
      "pygments_lexer": "ipython3",
      "version": "3.8.5"
    }
  },
  "cells": [
    {
      "cell_type": "code",
      "metadata": {
        "colab": {
          "base_uri": "https://localhost:8080/"
        },
        "id": "BhyIgCgl_jXr",
        "outputId": "b1fdaa47-822e-4ab9-f401-f7f951c73999"
      },
      "source": [
        "from google.colab import drive\n",
        "drive.mount('/content/drive')"
      ],
      "execution_count": null,
      "outputs": [
        {
          "output_type": "stream",
          "text": [
            "Drive already mounted at /content/drive; to attempt to forcibly remount, call drive.mount(\"/content/drive\", force_remount=True).\n"
          ],
          "name": "stdout"
        }
      ]
    },
    {
      "cell_type": "code",
      "metadata": {
        "colab": {
          "base_uri": "https://localhost:8080/"
        },
        "id": "7AhV8-V3jUCP",
        "outputId": "9d437b92-422e-40e3-bc41-22430815d4b7"
      },
      "source": [
        "import os\n",
        "os.chdir('/content/drive/My Drive/database security')\n",
        "print(os.getcwd())"
      ],
      "execution_count": null,
      "outputs": [
        {
          "output_type": "stream",
          "text": [
            "/content/drive/My Drive/database security\n"
          ],
          "name": "stdout"
        }
      ]
    },
    {
      "cell_type": "code",
      "metadata": {
        "id": "JHQrWAtydC8l",
        "scrolled": true
      },
      "source": [
        "import pandas as pd\n",
        "import numpy as np\n",
        "import matplotlib.pyplot as plt\n",
        "import seaborn as sns\n",
        "from sklearn.model_selection import train_test_split\n",
        "from sklearn.preprocessing import LabelEncoder\n",
        "from keras.models import Model\n",
        "from keras.layers import  Activation, Dense, Dropout, Input, Embedding\n",
        "from keras.optimizers import RMSprop\n",
        "from keras.preprocessing.text import Tokenizer\n",
        "from keras.preprocessing import sequence\n",
        "from keras.utils import to_categorical\n",
        "from keras.callbacks import EarlyStopping\n",
        "%matplotlib inline\n",
        "from keras.preprocessing.text import Tokenizer\n",
        "import tensorflow as tf\n",
        "from keras.metrics import Recall"
      ],
      "execution_count": null,
      "outputs": []
    },
    {
      "cell_type": "code",
      "metadata": {
        "id": "12cW-R9gdC89"
      },
      "source": [
        "from tensorflow.keras.preprocessing.text import Tokenizer\n",
        "from tensorflow.keras.preprocessing.sequence import pad_sequences"
      ],
      "execution_count": null,
      "outputs": []
    },
    {
      "cell_type": "markdown",
      "metadata": {
        "id": "kz2H8A8vbfUM"
      },
      "source": [
        "#Loding dataset"
      ]
    },
    {
      "cell_type": "code",
      "metadata": {
        "colab": {
          "base_uri": "https://localhost:8080/",
          "height": 206
        },
        "id": "54JBT_NAdC9A",
        "outputId": "51a91e6d-7814-4769-a6c0-cab89f1e4dca"
      },
      "source": [
        "df= pd.read_csv(\"myDataset.csv\", encoding='utf-16')\n",
        "df.head()"
      ],
      "execution_count": null,
      "outputs": [
        {
          "output_type": "execute_result",
          "data": {
            "text/html": [
              "<div>\n",
              "<style scoped>\n",
              "    .dataframe tbody tr th:only-of-type {\n",
              "        vertical-align: middle;\n",
              "    }\n",
              "\n",
              "    .dataframe tbody tr th {\n",
              "        vertical-align: top;\n",
              "    }\n",
              "\n",
              "    .dataframe thead th {\n",
              "        text-align: right;\n",
              "    }\n",
              "</style>\n",
              "<table border=\"1\" class=\"dataframe\">\n",
              "  <thead>\n",
              "    <tr style=\"text-align: right;\">\n",
              "      <th></th>\n",
              "      <th>sentence</th>\n",
              "      <th>type</th>\n",
              "    </tr>\n",
              "  </thead>\n",
              "  <tbody>\n",
              "    <tr>\n",
              "      <th>0</th>\n",
              "      <td>a</td>\n",
              "      <td>1</td>\n",
              "    </tr>\n",
              "    <tr>\n",
              "      <th>1</th>\n",
              "      <td>a'</td>\n",
              "      <td>1</td>\n",
              "    </tr>\n",
              "    <tr>\n",
              "      <th>2</th>\n",
              "      <td>a' --</td>\n",
              "      <td>1</td>\n",
              "    </tr>\n",
              "    <tr>\n",
              "      <th>3</th>\n",
              "      <td>a' or 1 = 1; --</td>\n",
              "      <td>1</td>\n",
              "    </tr>\n",
              "    <tr>\n",
              "      <th>4</th>\n",
              "      <td>@</td>\n",
              "      <td>1</td>\n",
              "    </tr>\n",
              "  </tbody>\n",
              "</table>\n",
              "</div>"
            ],
            "text/plain": [
              "          sentence  type\n",
              "0                a     1\n",
              "1              a'      1\n",
              "2            a' --     1\n",
              "3  a' or 1 = 1; --     1\n",
              "4                @     1"
            ]
          },
          "metadata": {
            "tags": []
          },
          "execution_count": 5
        }
      ]
    },
    {
      "cell_type": "code",
      "metadata": {
        "colab": {
          "base_uri": "https://localhost:8080/"
        },
        "id": "kT291wucdC9C",
        "outputId": "8451a742-7a10-40d8-8ae0-f24d8fd84748"
      },
      "source": [
        "df.info()"
      ],
      "execution_count": null,
      "outputs": [
        {
          "output_type": "stream",
          "text": [
            "<class 'pandas.core.frame.DataFrame'>\n",
            "RangeIndex: 18900 entries, 0 to 18899\n",
            "Data columns (total 2 columns):\n",
            " #   Column    Non-Null Count  Dtype \n",
            "---  ------    --------------  ----- \n",
            " 0   sentence  18880 non-null  object\n",
            " 1   type      18900 non-null  int64 \n",
            "dtypes: int64(1), object(1)\n",
            "memory usage: 295.4+ KB\n"
          ],
          "name": "stdout"
        }
      ]
    },
    {
      "cell_type": "code",
      "metadata": {
        "id": "obL1IDv8dC9E"
      },
      "source": [
        "df.dropna(inplace=True)"
      ],
      "execution_count": null,
      "outputs": []
    },
    {
      "cell_type": "code",
      "metadata": {
        "colab": {
          "base_uri": "https://localhost:8080/",
          "height": 367
        },
        "id": "AgSlJJrLdC9F",
        "outputId": "d0886e6e-054c-4192-bb4b-48d7322ba13c"
      },
      "source": [
        "sns.countplot(df.type)\n",
        "plt.xlabel('Label')\n",
        "plt.title('Number of malicious and benign queries')"
      ],
      "execution_count": null,
      "outputs": [
        {
          "output_type": "stream",
          "text": [
            "/usr/local/lib/python3.7/dist-packages/seaborn/_decorators.py:43: FutureWarning: Pass the following variable as a keyword arg: x. From version 0.12, the only valid positional argument will be `data`, and passing other arguments without an explicit keyword will result in an error or misinterpretation.\n",
            "  FutureWarning\n"
          ],
          "name": "stderr"
        },
        {
          "output_type": "execute_result",
          "data": {
            "text/plain": [
              "Text(0.5, 1.0, 'Number of malicious and benign queries')"
            ]
          },
          "metadata": {
            "tags": []
          },
          "execution_count": 8
        },
        {
          "output_type": "display_data",
          "data": {
            "image/png": "[encoded data removed]",
            "text/plain": [
              "<Figure size 432x288 with 1 Axes>"
            ]
          },
          "metadata": {
            "tags": [],
            "needs_background": "light"
          }
        }
      ]
    },
    {
      "cell_type": "code",
      "metadata": {
        "id": "fatRF7GddC9H"
      },
      "source": [
        "X=df['sentence']\n",
        "y=df['type']\n"
      ],
      "execution_count": null,
      "outputs": []
    },
    {
      "cell_type": "code",
      "metadata": {
        "id": "NfwEByPVdC9I"
      },
      "source": [
        "X_train, X_test, y_train, y_test = train_test_split(X, y, test_size=0.2, random_state=42)"
      ],
      "execution_count": null,
      "outputs": []
    },
    {
      "cell_type": "code",
      "metadata": {
        "colab": {
          "base_uri": "https://localhost:8080/"
        },
        "id": "AzewhrOP5Bpn",
        "outputId": "c8c93e3a-ce03-455b-bf89-e9679d874f46"
      },
      "source": [
        "print(X_train.head)\n",
        "print(y_test.head)"
      ],
      "execution_count": null,
      "outputs": [
        {
          "output_type": "stream",
          "text": [
            "<bound method NDFrame.head of 13002    \"  )  )   UNION ALL SELECT NULL, NULL, NULL, N...\n",
            "4417     \" )  UNION ALL SELECT NULL, NULL, NULL, NULL, ...\n",
            "14661     When transition-based parsing consumes stream...\n",
            "6920     '  )  )   )  UNION ALL SELECT NULL, NULL, NULL...\n",
            "15607     House fire Helmbrechts: Rescue services retri...\n",
            "                               ...                        \n",
            "11288    '  )  )   UNION ALL SELECT NULL, NULL, NULL, N...\n",
            "11968      )  )   UNION ALL SELECT NULL, NULL, NULL, NU...\n",
            "5394     \"  )  )   )  UNION ALL SELECT NULL, NULL, NULL...\n",
            "860       RLIKE  ( SELECT  ( CASE WHEN  ( 4346 = 4347 )...\n",
            "15803     The report also includes list typical symptom...\n",
            "Name: sentence, Length: 15104, dtype: object>\n",
            "<bound method NDFrame.head of 344      1\n",
            "11887    1\n",
            "18012    0\n",
            "7562     1\n",
            "9351     1\n",
            "        ..\n",
            "10358    1\n",
            "3073     1\n",
            "8500     1\n",
            "1446     1\n",
            "953      1\n",
            "Name: type, Length: 3776, dtype: int64>\n"
          ],
          "name": "stdout"
        }
      ]
    },
    {
      "cell_type": "markdown",
      "metadata": {
        "id": "TG7UNfCY6Ha4"
      },
      "source": [
        ""
      ]
    },
    {
      "cell_type": "markdown",
      "metadata": {
        "id": "2pPeWg8XdC9K"
      },
      "source": [
        "# Training Data Preprocessing"
      ]
    },
    {
      "cell_type": "code",
      "metadata": {
        "colab": {
          "base_uri": "https://localhost:8080/"
        },
        "id": "r0Phsu_XdC9M",
        "scrolled": true,
        "outputId": "34d0d38f-8742-4c12-e763-8de8c2e33e31"
      },
      "source": [
        "max_words = 1000\n",
        "max_len = 317\n",
        "tok = Tokenizer(num_words=max_words)\n",
        "print(type(tok))\n",
        "tok.fit_on_texts(X_train)\n",
        "sequences = tok.texts_to_sequences(X_train)\n",
        "sequences_matrix = sequence.pad_sequences(sequences,maxlen=max_len)\n"
      ],
      "execution_count": null,
      "outputs": [
        {
          "output_type": "stream",
          "text": [
            "<class 'keras_preprocessing.text.Tokenizer'>\n"
          ],
          "name": "stdout"
        }
      ]
    },
    {
      "cell_type": "markdown",
      "metadata": {
        "id": "ZlW1Jg60XmvW"
      },
      "source": [
        "#Test data preprocessing"
      ]
    },
    {
      "cell_type": "code",
      "metadata": {
        "id": "91GLG87rXlS3"
      },
      "source": [
        "X_test_sequences = tok.texts_to_sequences(X_test)\n",
        "X_test_sequences_matrix = sequence.pad_sequences(X_test_sequences,maxlen=max_len)"
      ],
      "execution_count": null,
      "outputs": []
    },
    {
      "cell_type": "markdown",
      "metadata": {
        "id": "JN0QMnTbX6ZW"
      },
      "source": [
        "#MLP model"
      ]
    },
    {
      "cell_type": "code",
      "metadata": {
        "id": "py-ZOchp_OIX"
      },
      "source": [
        "import keras\n",
        "from keras import models\n",
        "from keras import layers"
      ],
      "execution_count": null,
      "outputs": []
    },
    {
      "cell_type": "code",
      "metadata": {
        "id": "q-SJHqB_Cmd7"
      },
      "source": [
        "model = models.Sequential()\n",
        "model.add(layers.Dense(200,input_shape = (317,), activation='relu'))\n",
        "model.add(layers.Dense(200, activation='relu'))\n",
        "model.add(layers.Dense(200, activation='relu'))\n",
        "model.add(layers.Dense(200, activation='relu'))\n",
        "model.add(layers.Dense(200, activation='relu'))\n",
        "\n",
        "model.add(layers.Dense(1, activation='sigmoid'))\n"
      ],
      "execution_count": null,
      "outputs": []
    },
    {
      "cell_type": "code",
      "metadata": {
        "colab": {
          "base_uri": "https://localhost:8080/"
        },
        "id": "ZlMS92ZpYLMp",
        "outputId": "a73905ef-bec6-485f-89c2-57dd32066ac5"
      },
      "source": [
        "\n",
        "model.summary()"
      ],
      "execution_count": null,
      "outputs": [
        {
          "output_type": "stream",
          "text": [
            "Model: \"sequential_2\"\n",
            "_________________________________________________________________\n",
            "Layer (type)                 Output Shape              Param #   \n",
            "=================================================================\n",
            "dense_12 (Dense)             (None, 200)               63600     \n",
            "_________________________________________________________________\n",
            "dense_13 (Dense)             (None, 200)               40200     \n",
            "_________________________________________________________________\n",
            "dense_14 (Dense)             (None, 200)               40200     \n",
            "_________________________________________________________________\n",
            "dense_15 (Dense)             (None, 200)               40200     \n",
            "_________________________________________________________________\n",
            "dense_16 (Dense)             (None, 200)               40200     \n",
            "_________________________________________________________________\n",
            "dense_17 (Dense)             (None, 1)                 201       \n",
            "=================================================================\n",
            "Total params: 224,601\n",
            "Trainable params: 224,601\n",
            "Non-trainable params: 0\n",
            "_________________________________________________________________\n"
          ],
          "name": "stdout"
        }
      ]
    },
    {
      "cell_type": "code",
      "metadata": {
        "id": "XILJ8Ys0YGRu"
      },
      "source": [
        "model.compile(loss='binary_crossentropy',optimizer=RMSprop(),metrics=['accuracy'])\n",
        "\n"
      ],
      "execution_count": null,
      "outputs": []
    },
    {
      "cell_type": "code",
      "metadata": {
        "colab": {
          "base_uri": "https://localhost:8080/"
        },
        "id": "VODvi9hWFTxT",
        "outputId": "e2574b1b-445f-4ba8-d9c4-0986906967ed"
      },
      "source": [
        "history=model.fit(sequences_matrix,y_train,batch_size=128,epochs=30, validation_split=0.2)"
      ],
      "execution_count": null,
      "outputs": [
        {
          "output_type": "stream",
          "text": [
            "Epoch 1/30\n",
            "95/95 [==============================] - 2s 13ms/step - loss: 1.3313 - accuracy: 0.7507 - val_loss: 0.2648 - val_accuracy: 0.9153\n",
            "Epoch 2/30\n",
            "95/95 [==============================] - 1s 12ms/step - loss: 0.2394 - accuracy: 0.9327 - val_loss: 0.1605 - val_accuracy: 0.9424\n",
            "Epoch 3/30\n",
            "95/95 [==============================] - 1s 11ms/step - loss: 0.1378 - accuracy: 0.9525 - val_loss: 0.1355 - val_accuracy: 0.9480\n",
            "Epoch 4/30\n",
            "95/95 [==============================] - 1s 11ms/step - loss: 0.1170 - accuracy: 0.9627 - val_loss: 0.1083 - val_accuracy: 0.9715\n",
            "Epoch 5/30\n",
            "95/95 [==============================] - 1s 11ms/step - loss: 0.0970 - accuracy: 0.9714 - val_loss: 0.0871 - val_accuracy: 0.9669\n",
            "Epoch 6/30\n",
            "95/95 [==============================] - 1s 11ms/step - loss: 0.0924 - accuracy: 0.9671 - val_loss: 0.2108 - val_accuracy: 0.9752\n",
            "Epoch 7/30\n",
            "95/95 [==============================] - 1s 12ms/step - loss: 0.1182 - accuracy: 0.9720 - val_loss: 0.0933 - val_accuracy: 0.9702\n",
            "Epoch 8/30\n",
            "95/95 [==============================] - 1s 12ms/step - loss: 0.0828 - accuracy: 0.9722 - val_loss: 0.1260 - val_accuracy: 0.9646\n",
            "Epoch 9/30\n",
            "95/95 [==============================] - 1s 12ms/step - loss: 0.0750 - accuracy: 0.9725 - val_loss: 0.0955 - val_accuracy: 0.9719\n",
            "Epoch 10/30\n",
            "95/95 [==============================] - 1s 11ms/step - loss: 0.0777 - accuracy: 0.9719 - val_loss: 0.1632 - val_accuracy: 0.9715\n",
            "Epoch 11/30\n",
            "95/95 [==============================] - 1s 11ms/step - loss: 0.0812 - accuracy: 0.9750 - val_loss: 0.1229 - val_accuracy: 0.9719\n",
            "Epoch 12/30\n",
            "95/95 [==============================] - 1s 11ms/step - loss: 0.0906 - accuracy: 0.9751 - val_loss: 0.1536 - val_accuracy: 0.9732\n",
            "Epoch 13/30\n",
            "95/95 [==============================] - 1s 11ms/step - loss: 0.0815 - accuracy: 0.9751 - val_loss: 0.0854 - val_accuracy: 0.9725\n",
            "Epoch 14/30\n",
            "95/95 [==============================] - 1s 11ms/step - loss: 0.0661 - accuracy: 0.9778 - val_loss: 0.1030 - val_accuracy: 0.9782\n",
            "Epoch 15/30\n",
            "95/95 [==============================] - 1s 12ms/step - loss: 0.0725 - accuracy: 0.9803 - val_loss: 0.2361 - val_accuracy: 0.9722\n",
            "Epoch 16/30\n",
            "95/95 [==============================] - 1s 11ms/step - loss: 0.1321 - accuracy: 0.9782 - val_loss: 0.0907 - val_accuracy: 0.9798\n",
            "Epoch 17/30\n",
            "95/95 [==============================] - 1s 12ms/step - loss: 0.0701 - accuracy: 0.9811 - val_loss: 0.2550 - val_accuracy: 0.9732\n",
            "Epoch 18/30\n",
            "95/95 [==============================] - 1s 11ms/step - loss: 0.0640 - accuracy: 0.9792 - val_loss: 0.1845 - val_accuracy: 0.9722\n",
            "Epoch 19/30\n",
            "95/95 [==============================] - 1s 11ms/step - loss: 0.0592 - accuracy: 0.9819 - val_loss: 0.2745 - val_accuracy: 0.9782\n",
            "Epoch 20/30\n",
            "95/95 [==============================] - 1s 10ms/step - loss: 0.0664 - accuracy: 0.9811 - val_loss: 0.2482 - val_accuracy: 0.9785\n",
            "Epoch 21/30\n",
            "95/95 [==============================] - 1s 10ms/step - loss: 0.1185 - accuracy: 0.9816 - val_loss: 0.1398 - val_accuracy: 0.9745\n",
            "Epoch 22/30\n",
            "95/95 [==============================] - 1s 11ms/step - loss: 0.0564 - accuracy: 0.9822 - val_loss: 0.3359 - val_accuracy: 0.9729\n",
            "Epoch 23/30\n",
            "95/95 [==============================] - 1s 12ms/step - loss: 0.0628 - accuracy: 0.9824 - val_loss: 0.2205 - val_accuracy: 0.9782\n",
            "Epoch 24/30\n",
            "95/95 [==============================] - 1s 11ms/step - loss: 0.1140 - accuracy: 0.9840 - val_loss: 0.2664 - val_accuracy: 0.9775\n",
            "Epoch 25/30\n",
            "95/95 [==============================] - 1s 10ms/step - loss: 0.0495 - accuracy: 0.9827 - val_loss: 0.3152 - val_accuracy: 0.9768\n",
            "Epoch 26/30\n",
            "95/95 [==============================] - 1s 12ms/step - loss: 0.0746 - accuracy: 0.9847 - val_loss: 0.1296 - val_accuracy: 0.9795\n",
            "Epoch 27/30\n",
            "95/95 [==============================] - 1s 12ms/step - loss: 0.0494 - accuracy: 0.9830 - val_loss: 0.5267 - val_accuracy: 0.9775\n",
            "Epoch 28/30\n",
            "95/95 [==============================] - 1s 12ms/step - loss: 0.1404 - accuracy: 0.9823 - val_loss: 0.1892 - val_accuracy: 0.9772\n",
            "Epoch 29/30\n",
            "95/95 [==============================] - 1s 12ms/step - loss: 0.0552 - accuracy: 0.9846 - val_loss: 0.1981 - val_accuracy: 0.9762\n",
            "Epoch 30/30\n",
            "95/95 [==============================] - 1s 12ms/step - loss: 0.0637 - accuracy: 0.9808 - val_loss: 0.1766 - val_accuracy: 0.9805\n"
          ],
          "name": "stdout"
        }
      ]
    },
    {
      "cell_type": "code",
      "metadata": {
        "id": "Jn7twDSHdC9V"
      },
      "source": [
        ""
      ],
      "execution_count": null,
      "outputs": []
    },
    {
      "cell_type": "markdown",
      "metadata": {
        "id": "9FUa0-ecYl5C"
      },
      "source": [
        "#Evaluation"
      ]
    },
    {
      "cell_type": "code",
      "metadata": {
        "colab": {
          "base_uri": "https://localhost:8080/"
        },
        "id": "rzZ_1v2XdC9W",
        "outputId": "3922abeb-1e8b-43b6-8e0f-4ed921d49ec9"
      },
      "source": [
        "Accuracy = model.evaluate(X_test_sequences_matrix,y_test)"
      ],
      "execution_count": null,
      "outputs": [
        {
          "output_type": "stream",
          "text": [
            "118/118 [==============================] - 0s 2ms/step - loss: 1.1439 - accuracy: 0.9793\n"
          ],
          "name": "stdout"
        }
      ]
    },
    {
      "cell_type": "code",
      "metadata": {
        "id": "XSD1cd14S4ai"
      },
      "source": [
        ""
      ],
      "execution_count": null,
      "outputs": []
    },
    {
      "cell_type": "code",
      "metadata": {
        "id": "ATUsxU3K9ElC"
      },
      "source": [
        "train_loss = history.history['loss']\n",
        "train_acc = history.history['accuracy']\n",
        "val_loss = history.history['val_loss']\n",
        "val_acc = history.history['val_accuracy']\n",
        "xc=range(len(train_loss))"
      ],
      "execution_count": null,
      "outputs": []
    },
    {
      "cell_type": "code",
      "metadata": {
        "colab": {
          "base_uri": "https://localhost:8080/",
          "height": 296
        },
        "id": "YGPPvwn_9IXu",
        "outputId": "f2ddd0e5-2e9e-42d2-eea4-3a3a9935b183"
      },
      "source": [
        "import matplotlib.pyplot as plt\n",
        "%matplotlib inline\n",
        "plt.plot(xc, train_loss)\n",
        "plt.plot(xc, val_loss)\n",
        "plt.xlabel(\"Epoch\")\n",
        "plt.ylabel(\"Loss\")\n",
        "plt.legend(['train','val'],loc=4)"
      ],
      "execution_count": null,
      "outputs": [
        {
          "output_type": "execute_result",
          "data": {
            "text/plain": [
              "<matplotlib.legend.Legend at 0x7f7daa5e7ed0>"
            ]
          },
          "metadata": {
            "tags": []
          },
          "execution_count": 125
        },
        {
          "output_type": "display_data",
          "data": {
            "image/png": "[encoded data removed]",
            "text/plain": [
              "<Figure size 432x288 with 1 Axes>"
            ]
          },
          "metadata": {
            "tags": [],
            "needs_background": "light"
          }
        }
      ]
    },
    {
      "cell_type": "code",
      "metadata": {
        "colab": {
          "base_uri": "https://localhost:8080/",
          "height": 296
        },
        "id": "92Auo4Jw9TjW",
        "outputId": "e13338a7-15b6-4b32-b71c-eb676f317200"
      },
      "source": [
        "import matplotlib.pyplot as plt\n",
        "%matplotlib inline\n",
        "plt.plot(xc, train_acc)\n",
        "plt.plot(xc, val_acc)\n",
        "plt.xlabel(\"Epoch\")\n",
        "plt.ylabel(\"Accuracy\")\n",
        "plt.legend(['train','val'],loc=4)"
      ],
      "execution_count": null,
      "outputs": [
        {
          "output_type": "execute_result",
          "data": {
            "text/plain": [
              "<matplotlib.legend.Legend at 0x7f7d99cf33d0>"
            ]
          },
          "metadata": {
            "tags": []
          },
          "execution_count": 126
        },
        {
          "output_type": "display_data",
          "data": {
            "image/png": "[encoded data removed]",
            "text/plain": [
              "<Figure size 432x288 with 1 Axes>"
            ]
          },
          "metadata": {
            "tags": [],
            "needs_background": "light"
          }
        }
      ]
    },
    {
      "cell_type": "code",
      "metadata": {
        "colab": {
          "base_uri": "https://localhost:8080/"
        },
        "id": "RNfQJ3HpO8Ma",
        "outputId": "0e29e697-85ad-4285-fc19-256e5e9ebeb9"
      },
      "source": [
        "print(X_test_sequences_matrix.shape)"
      ],
      "execution_count": null,
      "outputs": [
        {
          "output_type": "stream",
          "text": [
            "(3776, 317)\n"
          ],
          "name": "stdout"
        }
      ]
    },
    {
      "cell_type": "code",
      "metadata": {
        "id": "RlKUrNLJdC9Y"
      },
      "source": [
        "y_pred=model.predict(X_test_sequences_matrix)"
      ],
      "execution_count": null,
      "outputs": []
    },
    {
      "cell_type": "code",
      "metadata": {
        "colab": {
          "base_uri": "https://localhost:8080/"
        },
        "id": "dwZd8zuidC9Z",
        "outputId": "74c712e7-9a9b-4ecd-d869-2bc195e22c78"
      },
      "source": [
        "print(y_pred)"
      ],
      "execution_count": null,
      "outputs": [
        {
          "output_type": "stream",
          "text": [
            "[[9.9379188e-01]\n",
            " [1.0000000e+00]\n",
            " [2.3553483e-32]\n",
            " ...\n",
            " [9.9010587e-01]\n",
            " [9.9405485e-01]\n",
            " [9.9589831e-01]]\n"
          ],
          "name": "stdout"
        }
      ]
    },
    {
      "cell_type": "code",
      "metadata": {
        "id": "7qtmprj_dC9a"
      },
      "source": [
        "for i in range(len(y_pred)):\n",
        "    if y_pred[i]>0.5:\n",
        "        y_pred[i]=1\n",
        "    elif y_pred[i]<=0.5:\n",
        "        y_pred[i]=0"
      ],
      "execution_count": null,
      "outputs": []
    },
    {
      "cell_type": "code",
      "metadata": {
        "colab": {
          "base_uri": "https://localhost:8080/"
        },
        "id": "EJUduv3udC9b",
        "outputId": "0eb0b72e-e1f9-4d98-d8c7-27fc63216d58"
      },
      "source": [
        "print(y_pred)"
      ],
      "execution_count": null,
      "outputs": [
        {
          "output_type": "stream",
          "text": [
            "[[1.]\n",
            " [1.]\n",
            " [0.]\n",
            " ...\n",
            " [1.]\n",
            " [1.]\n",
            " [1.]]\n"
          ],
          "name": "stdout"
        }
      ]
    },
    {
      "cell_type": "code",
      "metadata": {
        "colab": {
          "base_uri": "https://localhost:8080/"
        },
        "id": "nsXbQEexdC9b",
        "outputId": "dd151b56-450a-49de-a44f-0c5d6557c6ad"
      },
      "source": [
        "from sklearn.metrics import confusion_matrix\n",
        "from sklearn.metrics import plot_confusion_matrix\n",
        "from sklearn.metrics import accuracy_score\n",
        "from sklearn.metrics import precision_score\n",
        "from sklearn.metrics import recall_score\n",
        "confusion_matrix(y_test, y_pred)\n",
        "# plot_confusion_matrix(classifier, X_test, y_test)  \n",
        "plt.show()\n",
        "accuracy= accuracy_score(y_test, y_pred)\n",
        "precision= precision_score(y_test, y_pred, zero_division=1)\n",
        "recall= recall_score(y_test, y_pred, zero_division=1)\n",
        "print(\" Accuracy : {0} \\n Precision : {1} \\n Recall : {2}\".format(accuracy, precision, recall))"
      ],
      "execution_count": null,
      "outputs": [
        {
          "output_type": "stream",
          "text": [
            " Accuracy : 0.979343220338983 \n",
            " Precision : 0.9879310344827587 \n",
            " Recall : 0.9852132049518569\n"
          ],
          "name": "stdout"
        }
      ]
    },
    {
      "cell_type": "code",
      "metadata": {
        "colab": {
          "base_uri": "https://localhost:8080/"
        },
        "id": "efBMUDmWBcTz",
        "outputId": "f55234af-6285-4f79-f1a9-dc08a3d77c29"
      },
      "source": [
        "cm=confusion_matrix(y_test,y_pred)\n",
        "print(\"confusion matrix : \\n\" ,cm)"
      ],
      "execution_count": null,
      "outputs": [
        {
          "output_type": "stream",
          "text": [
            "confusion matrix : \n",
            " [[ 833   35]\n",
            " [  43 2865]]\n"
          ],
          "name": "stdout"
        }
      ]
    },
    {
      "cell_type": "markdown",
      "metadata": {
        "id": "Iq_QCoKZdC9d"
      },
      "source": [
        "# saving the model"
      ]
    },
    {
      "cell_type": "code",
      "metadata": {
        "colab": {
          "base_uri": "https://localhost:8080/"
        },
        "id": "CYykJNZEdC9e",
        "outputId": "b412498e-888e-4182-a747-b1fda05b3532"
      },
      "source": [
        "from keras.models import load_model\n",
        "from pathlib import Path\n",
        "\n",
        "\n",
        "# Save neural network's trained weights\n",
        "model.save_weights(\"MLP_weights.h5\")\n",
        "print('done')\n",
        "\n",
        "# or you can save the full model via:\n",
        "model.save('MLP_model.h5')"
      ],
      "execution_count": null,
      "outputs": [
        {
          "output_type": "stream",
          "text": [
            "done\n"
          ],
          "name": "stdout"
        }
      ]
    },
    {
      "cell_type": "code",
      "metadata": {
        "id": "evSzJlEEbEe8"
      },
      "source": [
        ""
      ],
      "execution_count": null,
      "outputs": []
    },
    {
      "cell_type": "code",
      "metadata": {
        "id": "mBDNS2fcdC9f"
      },
      "source": [
        "#loading the model and the weights:\n",
        "loaded_model = tf.keras.models.load_model('MLP_model.h5')\n",
        "loaded_model.load_weights('MLP_weights.h5')  # to load"
      ],
      "execution_count": null,
      "outputs": []
    },
    {
      "cell_type": "code",
      "metadata": {
        "id": "iUgh3dwUdC9j"
      },
      "source": [
        ""
      ],
      "execution_count": null,
      "outputs": []
    }
  ]
}